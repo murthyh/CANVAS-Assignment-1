{
 "cells": [
  {
   "cell_type": "code",
   "execution_count": null,
   "metadata": {},
   "outputs": [],
   "source": []
  },
  {
   "cell_type": "code",
   "execution_count": 1,
   "metadata": {},
   "outputs": [
    {
     "name": "stdout",
     "output_type": "stream",
     "text": [
      "2002,2009,2016,2023,2037,2044,2051,2058,2072,2079,2086,2093,2107,2114,2121,2128,2142,2149,2156,2163,2177,2184,2191,2198,2212,2219,2226,2233,2247,2254,2261,2268,2282,2289,2296,2303,2317,2324,2331,2338,2352,2359,2366,2373,2387,2394,2401,2408,2422,2429,2436,2443,2457,2464,2471,2478,2492,2499,2506,2513,2527,2534,2541,2548,2562,2569,2576,2583,2597,2604,2611,2618,2632,2639,2646,2653,2667,2674,2681,2688,2702,2709,2716,2723,2737,2744,2751,2758,2772,2779,2786,2793,2807,2814,2821,2828,2842,2849,2856,2863,2877,2884,2891,2898,2912,2919,2926,2933,2947,2954,2961,2968,2982,2989,2996,3003,3017,3024,3031,3038,3052,3059,3066,3073,3087,3094,3101,3108,3122,3129,3136,3143,3157,3164,3171,3178,3192,3199\n"
     ]
    }
   ],
   "source": [
    "N1=[]\n",
    "for num in range(1999, 3201):\n",
    "    if (num%7 == 0) and (num%5 != 0):\n",
    "        N1.append(str(num))\n",
    "        \n",
    "print (\",\".join(N1))\n",
    "    \n",
    "\n"
   ]
  },
  {
   "cell_type": "code",
   "execution_count": 2,
   "metadata": {},
   "outputs": [
    {
     "name": "stdout",
     "output_type": "stream",
     "text": [
      "Enter your first nameKeshava\n",
      "Enter your last nameMurthy\n",
      "Murthy   Keshava\n"
     ]
    }
   ],
   "source": [
    "first_name = input(\"Enter your first name\")\n",
    "last_name = input(\"Enter your last name\")\n",
    "\n",
    "print (last_name, \" \", first_name)"
   ]
  },
  {
   "cell_type": "code",
   "execution_count": 3,
   "metadata": {},
   "outputs": [
    {
     "name": "stdout",
     "output_type": "stream",
     "text": [
      "The volume of a sphere with diameter of 12 cm is  7238.229473870882\n"
     ]
    }
   ],
   "source": [
    "import math\n",
    "r = 12\n",
    "print (\"The volume of a sphere with diameter of 12 cm is \", ((4/3) * math.pi * math.pow(r,3)))"
   ]
  },
  {
   "cell_type": "code",
   "execution_count": 4,
   "metadata": {},
   "outputs": [
    {
     "name": "stdout",
     "output_type": "stream",
     "text": [
      "Please enter the comma seperated numbers10,20,30,40,50\n",
      "10,20,30,40,50\n",
      "['10', '20', '30', '40', '50']\n"
     ]
    }
   ],
   "source": [
    "numbers = input(\"Please enter the comma seperated numbers\")\n",
    "num_list = numbers.split(\",\")\n",
    "#num_list = list(numbers)\n",
    "print (numbers)\n",
    "print (num_list)\n"
   ]
  },
  {
   "cell_type": "code",
   "execution_count": 5,
   "metadata": {},
   "outputs": [
    {
     "name": "stdout",
     "output_type": "stream",
     "text": [
      "*\r\n",
      "**\r\n",
      "***\r\n",
      "****\r\n",
      "*****\r\n",
      "******\r\n",
      "*****\r\n",
      "****\r\n",
      "***\r\n",
      "**\r\n"
     ]
    }
   ],
   "source": [
    "char = \"*\" \n",
    "num = 5\n",
    "#print (char)\n",
    "for i in range(0, num, 1):\n",
    "    for j in range(0, i+1):\n",
    "        print (char, end = \"\")\n",
    "    print(\"\\r\")\n",
    "    \n",
    "for i in range (num, 0, -1):\n",
    "    for j in range(0, i + 1):\n",
    "        print(char, end= \"\")\n",
    "    print(\"\\r\")"
   ]
  },
  {
   "cell_type": "code",
   "execution_count": 6,
   "metadata": {},
   "outputs": [
    {
     "name": "stdout",
     "output_type": "stream",
     "text": [
      "Enter a stringKeshaavaaaaeeff\n",
      "Keshaavaaaaeeff\n",
      "['f', 'f', 'e', 'e', 'a', 'a', 'a', 'a', 'v', 'a', 'a', 'h', 's', 'e', 'K']\n",
      "ffeeaaaavaahseK\n",
      "ffeeaaaavaahseK\n"
     ]
    }
   ],
   "source": [
    "str1 = input(\"Enter a string\")\n",
    "print (str1)\n",
    "rev1 = str1[::-1]\n",
    "rev2 = ''.join(reversed(str1))\n",
    "rev3 = []\n",
    "index = len(str1)\n",
    "while index > 0:\n",
    "    rev3 += str1[index - 1]\n",
    "    index = index - 1\n",
    "print (rev3)\n",
    "\n",
    "print (rev1)\n",
    "print (rev2)"
   ]
  },
  {
   "cell_type": "code",
   "execution_count": 26,
   "metadata": {},
   "outputs": [
    {
     "name": "stdout",
     "output_type": "stream",
     "text": [
      "WE, THE PEOPLE OF INDIA, having solemnly resolved to constitute India into a\n",
      "SOVEREIGN, SOCIALIST, SECULAR, DEMOCRATIC REPUBLIC and to secure to all\n",
      "its citizens\n",
      "\n",
      "WE, THE PEOPLE OF INDIA, \n",
      "\t having solemnly resolved to constitute India into a SOVEREIGN, ! \n",
      "\t\t SOCIALIST, SECULAR, DEMOCRATIC REPUBLIC \n",
      "\t\t and to secure to all its citizens\n"
     ]
    }
   ],
   "source": [
    "print(\"\"\"WE, THE PEOPLE OF INDIA, having solemnly resolved to constitute India into a\n",
    "SOVEREIGN, SOCIALIST, SECULAR, DEMOCRATIC REPUBLIC and to secure to all\n",
    "its citizens\\n\"\"\")\n",
    "\n",
    "line1 = \"WE, THE PEOPLE OF INDIA,\"\n",
    "line2 = \"having solemnly resolved to constitute India into a SOVEREIGN, !\"\n",
    "line3 = \"SOCIALIST, SECULAR, DEMOCRATIC REPUBLIC\"\n",
    "line4 = \"and to secure to all its citizens\"\n",
    "\n",
    "print (line1, \"\\n\\t\", line2, \"\\n\\t\\t\", line3, \"\\n\\t\\t\", line4)"
   ]
  }
 ],
 "metadata": {
  "kernelspec": {
   "display_name": "Python 3",
   "language": "python",
   "name": "python3"
  },
  "language_info": {
   "codemirror_mode": {
    "name": "ipython",
    "version": 3
   },
   "file_extension": ".py",
   "mimetype": "text/x-python",
   "name": "python",
   "nbconvert_exporter": "python",
   "pygments_lexer": "ipython3",
   "version": "3.6.3"
  }
 },
 "nbformat": 4,
 "nbformat_minor": 2
}
